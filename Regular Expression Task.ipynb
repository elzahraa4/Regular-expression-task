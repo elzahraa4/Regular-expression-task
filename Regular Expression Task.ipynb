{
 "cells": [
  {
   "cell_type": "code",
   "execution_count": 14,
   "id": "92ec8bca",
   "metadata": {
    "scrolled": false
   },
   "outputs": [
    {
     "name": "stdout",
     "output_type": "stream",
     "text": [
      "Ali Noor Ashraf 01012224582 anas34@gmail.com\n",
      "\n",
      "Anas Fadl Nagy 01234567897 23wedfrG@yahoo.edu\n",
      "\n",
      "Basem Nooh Mohamed 01544456789 2345ythh@edu.eg\n",
      "<class 'str'>\n"
     ]
    }
   ],
   "source": [
    "with open('Ree.txt', 'r') as f:\n",
    "    for i in  f.readlines():\n",
    "        l = i\n",
    "        print(l)\n",
    "print(type(l))"
   ]
  },
  {
   "cell_type": "code",
   "execution_count": 16,
   "id": "e6697e10",
   "metadata": {},
   "outputs": [
    {
     "data": {
      "text/plain": [
       "'Ali Noor Ashraf 01012224582 anas34@gmail.com\\nAnas Fadl Nagy 01234567897 23wedfrG@yahoo.edu\\nBasem Nooh Mohamed 01544456789 2345ythh@edu.eg'"
      ]
     },
     "execution_count": 16,
     "metadata": {},
     "output_type": "execute_result"
    }
   ],
   "source": [
    "with open('Ree.txt') as f:\n",
    "    s = f.read()\n",
    "s"
   ]
  },
  {
   "cell_type": "code",
   "execution_count": 17,
   "id": "7c46ea8a",
   "metadata": {},
   "outputs": [
    {
     "data": {
      "text/plain": [
       "str"
      ]
     },
     "execution_count": 17,
     "metadata": {},
     "output_type": "execute_result"
    }
   ],
   "source": [
    "type(s)"
   ]
  },
  {
   "cell_type": "code",
   "execution_count": 24,
   "id": "ae1617ea",
   "metadata": {},
   "outputs": [
    {
     "data": {
      "text/plain": [
       "['Ali Noor Ashraf 01012224582 anas34@gmail.com',\n",
       " 'Anas Fadl Nagy 01234567897 23wedfrG@yahoo.edu',\n",
       " 'Basem Nooh Mohamed 01544456789 2345ythh@edu.eg']"
      ]
     },
     "execution_count": 24,
     "metadata": {},
     "output_type": "execute_result"
    }
   ],
   "source": [
    "s.split(\"\\n\")"
   ]
  },
  {
   "cell_type": "code",
   "execution_count": 51,
   "id": "9a76edde",
   "metadata": {},
   "outputs": [
    {
     "name": "stdout",
     "output_type": "stream",
     "text": [
      "<re.Match object; span=(0, 16), match='Ali Noor Ashraf '>\n",
      "<re.Match object; span=(45, 60), match='Anas Fadl Nagy '>\n",
      "<re.Match object; span=(91, 110), match='Basem Nooh Mohamed '>\n"
     ]
    },
    {
     "data": {
      "text/plain": [
       "[<re.Match object; span=(0, 16), match='Ali Noor Ashraf '>,\n",
       " <re.Match object; span=(45, 60), match='Anas Fadl Nagy '>,\n",
       " <re.Match object; span=(91, 110), match='Basem Nooh Mohamed '>]"
      ]
     },
     "execution_count": 51,
     "metadata": {},
     "output_type": "execute_result"
    }
   ],
   "source": [
    "import re\n",
    "names =[ ]\n",
    "p = re.compile(r\"[A-Z]+[a-z]+\\D+\")\n",
    "m = p.finditer(s)\n",
    "for i in m:\n",
    "    names.append(i)\n",
    "    print(i)\n",
    "names"
   ]
  },
  {
   "cell_type": "code",
   "execution_count": 52,
   "id": "672ddc2d",
   "metadata": {},
   "outputs": [
    {
     "name": "stdout",
     "output_type": "stream",
     "text": [
      "<re.Match object; span=(0, 4), match='Ali '>\n",
      "<re.Match object; span=(4, 9), match='Noor '>\n",
      "<re.Match object; span=(9, 16), match='Ashraf '>\n",
      "<re.Match object; span=(45, 50), match='Anas '>\n",
      "<re.Match object; span=(50, 55), match='Fadl '>\n",
      "<re.Match object; span=(55, 60), match='Nagy '>\n",
      "<re.Match object; span=(91, 97), match='Basem '>\n",
      "<re.Match object; span=(97, 102), match='Nooh '>\n",
      "<re.Match object; span=(102, 110), match='Mohamed '>\n"
     ]
    },
    {
     "data": {
      "text/plain": [
       "[<re.Match object; span=(0, 16), match='Ali Noor Ashraf '>,\n",
       " <re.Match object; span=(45, 60), match='Anas Fadl Nagy '>,\n",
       " <re.Match object; span=(91, 110), match='Basem Nooh Mohamed '>,\n",
       " <re.Match object; span=(0, 4), match='Ali '>,\n",
       " <re.Match object; span=(4, 9), match='Noor '>,\n",
       " <re.Match object; span=(9, 16), match='Ashraf '>,\n",
       " <re.Match object; span=(45, 50), match='Anas '>,\n",
       " <re.Match object; span=(50, 55), match='Fadl '>,\n",
       " <re.Match object; span=(55, 60), match='Nagy '>,\n",
       " <re.Match object; span=(91, 97), match='Basem '>,\n",
       " <re.Match object; span=(97, 102), match='Nooh '>,\n",
       " <re.Match object; span=(102, 110), match='Mohamed '>]"
      ]
     },
     "execution_count": 52,
     "metadata": {},
     "output_type": "execute_result"
    }
   ],
   "source": [
    "import re\n",
    "\n",
    "p = re.compile(r\"[A-Z]+[a-z|?]+[\\D+]\")\n",
    "m = p.finditer(s)\n",
    "for i in m:\n",
    "    names.append(i)\n",
    "    print(i)\n",
    "names"
   ]
  },
  {
   "cell_type": "code",
   "execution_count": 60,
   "id": "3d3ba2f1",
   "metadata": {},
   "outputs": [
    {
     "name": "stdout",
     "output_type": "stream",
     "text": [
      "<re.Match object; span=(16, 27), match='01012224582'>\n",
      "<re.Match object; span=(60, 71), match='01234567897'>\n",
      "<re.Match object; span=(110, 121), match='01544456789'>\n"
     ]
    },
    {
     "data": {
      "text/plain": [
       "[<re.Match object; span=(16, 27), match='01012224582'>,\n",
       " <re.Match object; span=(60, 71), match='01234567897'>,\n",
       " <re.Match object; span=(110, 121), match='01544456789'>]"
      ]
     },
     "execution_count": 60,
     "metadata": {},
     "output_type": "execute_result"
    }
   ],
   "source": [
    "import re\n",
    "n = [ ]\n",
    "p = re.compile(r\"0+\\d{10}\")\n",
    "m = p.finditer(s)\n",
    "for i in m:\n",
    "    n.append(i)\n",
    "    print(i)\n",
    "n"
   ]
  },
  {
   "cell_type": "code",
   "execution_count": 61,
   "id": "72f1a15e",
   "metadata": {},
   "outputs": [
    {
     "name": "stdout",
     "output_type": "stream",
     "text": [
      "<re.Match object; span=(28, 44), match='anas34@gmail.com'>\n",
      "<re.Match object; span=(72, 90), match='23wedfrG@yahoo.edu'>\n",
      "<re.Match object; span=(122, 137), match='2345ythh@edu.eg'>\n"
     ]
    },
    {
     "data": {
      "text/plain": [
       "[<re.Match object; span=(28, 44), match='anas34@gmail.com'>,\n",
       " <re.Match object; span=(72, 90), match='23wedfrG@yahoo.edu'>,\n",
       " <re.Match object; span=(122, 137), match='2345ythh@edu.eg'>]"
      ]
     },
     "execution_count": 61,
     "metadata": {},
     "output_type": "execute_result"
    }
   ],
   "source": [
    "import re\n",
    "e = [ ]\n",
    "p = re.compile(r\"[a-zA-Z0-9_.+-]+@[a-zA-Z0-9-]+\\.[a-zA-Z0-9-.]{2,}\")\n",
    "m = p.finditer(s)\n",
    "for i in m:\n",
    "    e.append(i)\n",
    "    print(i)\n",
    "e"
   ]
  },
  {
   "cell_type": "code",
   "execution_count": null,
   "id": "da438a5a",
   "metadata": {},
   "outputs": [],
   "source": []
  }
 ],
 "metadata": {
  "kernelspec": {
   "display_name": "Python 3 (ipykernel)",
   "language": "python",
   "name": "python3"
  },
  "language_info": {
   "codemirror_mode": {
    "name": "ipython",
    "version": 3
   },
   "file_extension": ".py",
   "mimetype": "text/x-python",
   "name": "python",
   "nbconvert_exporter": "python",
   "pygments_lexer": "ipython3",
   "version": "3.10.9"
  }
 },
 "nbformat": 4,
 "nbformat_minor": 5
}
